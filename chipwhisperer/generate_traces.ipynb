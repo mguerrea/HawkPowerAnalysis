{
 "cells": [
  {
   "cell_type": "code",
   "execution_count": null,
   "id": "e969191b",
   "metadata": {},
   "outputs": [],
   "source": [
    "SCOPETYPE = 'OPENADC'\n",
    "PLATFORM = 'CW308_STM32F3'\n",
    "CRYPTO_TARGET='NONE' \n",
    "SS_VER='SS_VER_1_1'"
   ]
  },
  {
   "cell_type": "code",
   "execution_count": null,
   "id": "34935691",
   "metadata": {},
   "outputs": [],
   "source": [
    "%run \"../Setup_Scripts/Setup_Generic.ipynb\""
   ]
  },
  {
   "cell_type": "code",
   "execution_count": null,
   "id": "ee2fda2d",
   "metadata": {},
   "outputs": [],
   "source": [
    "%%bash -s \"$PLATFORM\" \"$CRYPTO_TARGET\" \"$SS_VER\"\n",
    "cd ../../hardware/victims/firmware/hawk\n",
    "make PLATFORM=$1 CRYPTO_TARGET=$2 SS_VER=$3 -j"
   ]
  },
  {
   "cell_type": "code",
   "execution_count": null,
   "id": "1078c1ba",
   "metadata": {},
   "outputs": [],
   "source": [
    "cw.program_target(scope, prog, \"../../hardware/victims/firmware/hawk/project-{}.hex\".format(PLATFORM))"
   ]
  },
  {
   "cell_type": "code",
   "execution_count": null,
   "id": "bca2247c",
   "metadata": {},
   "outputs": [],
   "source": [
    "from random import randint\n",
    "from tqdm import tnrange\n",
    "\n",
    "def get_traces(N):\n",
    "    traces = []\n",
    "    x = []\n",
    "    \n",
    "    for i in tnrange(N, desc='Capturing traces'):\n",
    "        text = bytearray([0]*16)\n",
    "        text[0] = randint(0,255)\n",
    "\n",
    "        scope.arm()\n",
    "    \n",
    "        target.simpleserial_write('p', text)\n",
    "    \n",
    "        ret = scope.capture()\n",
    "        if ret:\n",
    "            print(\"Target timed out!\")\n",
    "    \n",
    "        response = target.simpleserial_read('r', 16)\n",
    "        x.append(response[0])\n",
    "    \n",
    "        traces.append(scope.get_last_trace())\n",
    "    \n",
    "        scope.arm()\n",
    "    \n",
    "    return (traces, x)\n",
    "    "
   ]
  },
  {
   "cell_type": "code",
   "execution_count": null,
   "id": "a4964781",
   "metadata": {},
   "outputs": [],
   "source": [
    "ktp = cw.ktp.Basic()\n",
    "key, text = ktp.next()\n",
    "target.set_key(key)\n",
    "traces, x = get_traces(10000)"
   ]
  },
  {
   "cell_type": "code",
   "execution_count": null,
   "id": "c9e669c0",
   "metadata": {},
   "outputs": [],
   "source": [
    "%matplotlib notebook\n",
    "import matplotlib.pyplot as plt\n",
    "for t in traces[:10]:\n",
    "    plt.plot(t[:2000], linewidth=0.5)\n",
    "plt.show()"
   ]
  },
  {
   "cell_type": "code",
   "execution_count": null,
   "id": "be403302",
   "metadata": {},
   "outputs": [],
   "source": [
    "import numpy as np\n",
    "\n",
    "x = np.array(x)\n",
    "traces = np.array(traces)\n",
    "np.save('x.npy', x)\n",
    "np.save('traces.npy', traces)"
   ]
  },
  {
   "cell_type": "code",
   "execution_count": null,
   "id": "3a62c3b2",
   "metadata": {},
   "outputs": [],
   "source": [
    "scope.dis()\n",
    "target.dis()"
   ]
  }
 ],
 "metadata": {
  "kernelspec": {
   "display_name": "Python 3 (ipykernel)",
   "language": "python",
   "name": "python3"
  },
  "language_info": {
   "codemirror_mode": {
    "name": "ipython",
    "version": 3
   },
   "file_extension": ".py",
   "mimetype": "text/x-python",
   "name": "python",
   "nbconvert_exporter": "python",
   "pygments_lexer": "ipython3",
   "version": "3.11.8"
  }
 },
 "nbformat": 4,
 "nbformat_minor": 5
}
